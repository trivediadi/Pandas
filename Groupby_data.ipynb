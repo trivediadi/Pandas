{
 "cells": [
  {
   "cell_type": "code",
   "execution_count": 1,
   "id": "edb16aa3",
   "metadata": {},
   "outputs": [],
   "source": [
    "import numpy as np\n",
    "import pandas as pd"
   ]
  },
  {
   "cell_type": "code",
   "execution_count": 10,
   "id": "0231e556",
   "metadata": {},
   "outputs": [],
   "source": [
    "stuff={\n",
    "    'Corporations': ['Apple','Google', 'Meta', 'Apple', 'Google', 'Meta'],\n",
    "    'Employees': ['John', 'Jane', 'Jim', 'Jack', 'Jill', 'Joe'],\n",
    "    'Salary': [100, 200, 300, 400, 500, 600],\n",
    "}\n",
    "my_df=pd.DataFrame(stuff)"
   ]
  },
  {
   "cell_type": "code",
   "execution_count": 11,
   "id": "7f5b2002",
   "metadata": {},
   "outputs": [
    {
     "data": {
      "text/html": [
       "<div>\n",
       "<style scoped>\n",
       "    .dataframe tbody tr th:only-of-type {\n",
       "        vertical-align: middle;\n",
       "    }\n",
       "\n",
       "    .dataframe tbody tr th {\n",
       "        vertical-align: top;\n",
       "    }\n",
       "\n",
       "    .dataframe thead th {\n",
       "        text-align: right;\n",
       "    }\n",
       "</style>\n",
       "<table border=\"1\" class=\"dataframe\">\n",
       "  <thead>\n",
       "    <tr style=\"text-align: right;\">\n",
       "      <th></th>\n",
       "      <th>Corporations</th>\n",
       "      <th>Employees</th>\n",
       "      <th>Salary</th>\n",
       "    </tr>\n",
       "  </thead>\n",
       "  <tbody>\n",
       "    <tr>\n",
       "      <th>0</th>\n",
       "      <td>Apple</td>\n",
       "      <td>John</td>\n",
       "      <td>100</td>\n",
       "    </tr>\n",
       "    <tr>\n",
       "      <th>1</th>\n",
       "      <td>Google</td>\n",
       "      <td>Jane</td>\n",
       "      <td>200</td>\n",
       "    </tr>\n",
       "    <tr>\n",
       "      <th>2</th>\n",
       "      <td>Meta</td>\n",
       "      <td>Jim</td>\n",
       "      <td>300</td>\n",
       "    </tr>\n",
       "    <tr>\n",
       "      <th>3</th>\n",
       "      <td>Apple</td>\n",
       "      <td>Jack</td>\n",
       "      <td>400</td>\n",
       "    </tr>\n",
       "    <tr>\n",
       "      <th>4</th>\n",
       "      <td>Google</td>\n",
       "      <td>Jill</td>\n",
       "      <td>500</td>\n",
       "    </tr>\n",
       "    <tr>\n",
       "      <th>5</th>\n",
       "      <td>Meta</td>\n",
       "      <td>Joe</td>\n",
       "      <td>600</td>\n",
       "    </tr>\n",
       "  </tbody>\n",
       "</table>\n",
       "</div>"
      ],
      "text/plain": [
       "  Corporations Employees  Salary\n",
       "0        Apple      John     100\n",
       "1       Google      Jane     200\n",
       "2         Meta       Jim     300\n",
       "3        Apple      Jack     400\n",
       "4       Google      Jill     500\n",
       "5         Meta       Joe     600"
      ]
     },
     "execution_count": 11,
     "metadata": {},
     "output_type": "execute_result"
    }
   ],
   "source": [
    "my_df"
   ]
  },
  {
   "cell_type": "code",
   "execution_count": 12,
   "id": "1212fab5",
   "metadata": {},
   "outputs": [],
   "source": [
    "# Group by Corporations- To get object location in memory\n",
    "company=my_df.groupby('Corporations')"
   ]
  },
  {
   "cell_type": "code",
   "execution_count": null,
   "id": "84030614",
   "metadata": {},
   "outputs": [
    {
     "data": {
      "text/plain": [
       "Corporations\n",
       "Apple     500\n",
       "Google    700\n",
       "Meta      900\n",
       "Name: Salary, dtype: int64"
      ]
     },
     "execution_count": 14,
     "metadata": {},
     "output_type": "execute_result"
    }
   ],
   "source": [
    "# for sum\n",
    "company['Salary'].sum()"
   ]
  },
  {
   "cell_type": "code",
   "execution_count": 15,
   "id": "86215e83",
   "metadata": {},
   "outputs": [
    {
     "data": {
      "text/plain": [
       "Corporations\n",
       "Apple     250.0\n",
       "Google    350.0\n",
       "Meta      450.0\n",
       "Name: Salary, dtype: float64"
      ]
     },
     "execution_count": 15,
     "metadata": {},
     "output_type": "execute_result"
    }
   ],
   "source": [
    "# Mean\n",
    "company['Salary'].mean()"
   ]
  },
  {
   "cell_type": "code",
   "execution_count": 16,
   "id": "40a721dc",
   "metadata": {},
   "outputs": [
    {
     "data": {
      "text/plain": [
       "(Corporations\n",
       " Apple     100\n",
       " Google    200\n",
       " Meta      300\n",
       " Name: Salary, dtype: int64,\n",
       " Corporations\n",
       " Apple     400\n",
       " Google    500\n",
       " Meta      600\n",
       " Name: Salary, dtype: int64)"
      ]
     },
     "execution_count": 16,
     "metadata": {},
     "output_type": "execute_result"
    }
   ],
   "source": [
    "# MIN AND MAX\n",
    "company['Salary'].min(), company['Salary'].max()"
   ]
  },
  {
   "cell_type": "code",
   "execution_count": 17,
   "id": "89604790",
   "metadata": {},
   "outputs": [
    {
     "data": {
      "text/plain": [
       "Corporations\n",
       "Apple     212.132034\n",
       "Google    212.132034\n",
       "Meta      212.132034\n",
       "Name: Salary, dtype: float64"
      ]
     },
     "execution_count": 17,
     "metadata": {},
     "output_type": "execute_result"
    }
   ],
   "source": [
    "# standard deviation\n",
    "company['Salary'].std()"
   ]
  },
  {
   "cell_type": "code",
   "execution_count": 20,
   "id": "61bc37c7",
   "metadata": {},
   "outputs": [
    {
     "data": {
      "text/plain": [
       "Corporations\n",
       "Apple     45000.0\n",
       "Google    45000.0\n",
       "Meta      45000.0\n",
       "Name: Salary, dtype: float64"
      ]
     },
     "execution_count": 20,
     "metadata": {},
     "output_type": "execute_result"
    }
   ],
   "source": [
    "# var\n",
    "company.Salary.var()"
   ]
  },
  {
   "cell_type": "code",
   "execution_count": 21,
   "id": "df161388",
   "metadata": {},
   "outputs": [
    {
     "data": {
      "text/plain": [
       "Corporations\n",
       "Apple     2\n",
       "Google    2\n",
       "Meta      2\n",
       "Name: Salary, dtype: int64"
      ]
     },
     "execution_count": 21,
     "metadata": {},
     "output_type": "execute_result"
    }
   ],
   "source": [
    "# count\n",
    "company['Salary'].count()"
   ]
  },
  {
   "cell_type": "code",
   "execution_count": 23,
   "id": "2bab1e9b",
   "metadata": {},
   "outputs": [
    {
     "data": {
      "text/html": [
       "<div>\n",
       "<style scoped>\n",
       "    .dataframe tbody tr th:only-of-type {\n",
       "        vertical-align: middle;\n",
       "    }\n",
       "\n",
       "    .dataframe tbody tr th {\n",
       "        vertical-align: top;\n",
       "    }\n",
       "\n",
       "    .dataframe thead tr th {\n",
       "        text-align: left;\n",
       "    }\n",
       "\n",
       "    .dataframe thead tr:last-of-type th {\n",
       "        text-align: right;\n",
       "    }\n",
       "</style>\n",
       "<table border=\"1\" class=\"dataframe\">\n",
       "  <thead>\n",
       "    <tr>\n",
       "      <th></th>\n",
       "      <th colspan=\"8\" halign=\"left\">Salary</th>\n",
       "    </tr>\n",
       "    <tr>\n",
       "      <th></th>\n",
       "      <th>count</th>\n",
       "      <th>mean</th>\n",
       "      <th>std</th>\n",
       "      <th>min</th>\n",
       "      <th>25%</th>\n",
       "      <th>50%</th>\n",
       "      <th>75%</th>\n",
       "      <th>max</th>\n",
       "    </tr>\n",
       "    <tr>\n",
       "      <th>Corporations</th>\n",
       "      <th></th>\n",
       "      <th></th>\n",
       "      <th></th>\n",
       "      <th></th>\n",
       "      <th></th>\n",
       "      <th></th>\n",
       "      <th></th>\n",
       "      <th></th>\n",
       "    </tr>\n",
       "  </thead>\n",
       "  <tbody>\n",
       "    <tr>\n",
       "      <th>Apple</th>\n",
       "      <td>2.0</td>\n",
       "      <td>250.0</td>\n",
       "      <td>212.132034</td>\n",
       "      <td>100.0</td>\n",
       "      <td>175.0</td>\n",
       "      <td>250.0</td>\n",
       "      <td>325.0</td>\n",
       "      <td>400.0</td>\n",
       "    </tr>\n",
       "    <tr>\n",
       "      <th>Google</th>\n",
       "      <td>2.0</td>\n",
       "      <td>350.0</td>\n",
       "      <td>212.132034</td>\n",
       "      <td>200.0</td>\n",
       "      <td>275.0</td>\n",
       "      <td>350.0</td>\n",
       "      <td>425.0</td>\n",
       "      <td>500.0</td>\n",
       "    </tr>\n",
       "    <tr>\n",
       "      <th>Meta</th>\n",
       "      <td>2.0</td>\n",
       "      <td>450.0</td>\n",
       "      <td>212.132034</td>\n",
       "      <td>300.0</td>\n",
       "      <td>375.0</td>\n",
       "      <td>450.0</td>\n",
       "      <td>525.0</td>\n",
       "      <td>600.0</td>\n",
       "    </tr>\n",
       "  </tbody>\n",
       "</table>\n",
       "</div>"
      ],
      "text/plain": [
       "             Salary                                                      \n",
       "              count   mean         std    min    25%    50%    75%    max\n",
       "Corporations                                                             \n",
       "Apple           2.0  250.0  212.132034  100.0  175.0  250.0  325.0  400.0\n",
       "Google          2.0  350.0  212.132034  200.0  275.0  350.0  425.0  500.0\n",
       "Meta            2.0  450.0  212.132034  300.0  375.0  450.0  525.0  600.0"
      ]
     },
     "execution_count": 23,
     "metadata": {},
     "output_type": "execute_result"
    }
   ],
   "source": [
    "# describe\n",
    "company.describe()"
   ]
  },
  {
   "cell_type": "code",
   "execution_count": null,
   "id": "83ff0952",
   "metadata": {},
   "outputs": [],
   "source": []
  }
 ],
 "metadata": {
  "kernelspec": {
   "display_name": "base",
   "language": "python",
   "name": "python3"
  },
  "language_info": {
   "codemirror_mode": {
    "name": "ipython",
    "version": 3
   },
   "file_extension": ".py",
   "mimetype": "text/x-python",
   "name": "python",
   "nbconvert_exporter": "python",
   "pygments_lexer": "ipython3",
   "version": "3.12.4"
  }
 },
 "nbformat": 4,
 "nbformat_minor": 5
}
