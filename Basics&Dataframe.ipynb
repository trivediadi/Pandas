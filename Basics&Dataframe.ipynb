{
 "cells": [
  {
   "cell_type": "code",
   "execution_count": 1,
   "id": "1cf6f6b4",
   "metadata": {},
   "outputs": [],
   "source": [
    "import pandas as pd"
   ]
  },
  {
   "cell_type": "code",
   "execution_count": 4,
   "id": "be13736b",
   "metadata": {},
   "outputs": [],
   "source": [
    "# Pandas Series -Like a Table Column- 1 dimensional Array Holding Any type of Data"
   ]
  },
  {
   "cell_type": "code",
   "execution_count": 3,
   "id": "2d68b014",
   "metadata": {},
   "outputs": [
    {
     "name": "stdout",
     "output_type": "stream",
     "text": [
      "0    1\n",
      "1    2\n",
      "2    3\n",
      "3    4\n",
      "4    5\n",
      "dtype: int64\n"
     ]
    }
   ],
   "source": [
    "list=[1,2,3,4,5]\n",
    "my_var=pd.Series(list)\n",
    "print(my_var)"
   ]
  },
  {
   "cell_type": "code",
   "execution_count": null,
   "id": "a41317a2",
   "metadata": {},
   "outputs": [
    {
     "data": {
      "text/plain": [
       "3"
      ]
     },
     "execution_count": 5,
     "metadata": {},
     "output_type": "execute_result"
    }
   ],
   "source": [
    "#Print specific value from index\n",
    "my_var[2]"
   ]
  },
  {
   "cell_type": "code",
   "execution_count": 10,
   "id": "5f86db9c",
   "metadata": {},
   "outputs": [
    {
     "name": "stdout",
     "output_type": "stream",
     "text": [
      "a    1\n",
      "b    2\n",
      "c    3\n",
      "d    4\n",
      "e    5\n",
      "dtype: int64\n"
     ]
    }
   ],
   "source": [
    "#Labels using the index argument\n",
    "list2=['a','b','c','d','e']\n",
    "my_index=[1,2,3,4,5]\n",
    "my_var1=pd.Series(my_index,list2)\n",
    "print(my_var1)"
   ]
  },
  {
   "cell_type": "code",
   "execution_count": 13,
   "id": "5ded2c55",
   "metadata": {},
   "outputs": [
    {
     "data": {
      "text/plain": [
       "3"
      ]
     },
     "execution_count": 13,
     "metadata": {},
     "output_type": "execute_result"
    }
   ],
   "source": [
    "my_var1['c']"
   ]
  },
  {
   "cell_type": "code",
   "execution_count": 18,
   "id": "732deada",
   "metadata": {},
   "outputs": [
    {
     "name": "stdout",
     "output_type": "stream",
     "text": [
      "Tesla       12\n",
      "BMW         15\n",
      "Ford        20\n",
      "Mercedes    18\n",
      "Toyota      25\n",
      "dtype: int64\n"
     ]
    }
   ],
   "source": [
    "#Key Value Dictionary\n",
    "cars={\n",
    "    'Tesla':12,\n",
    "    'BMW': 15,\n",
    "    'Ford': 20,\n",
    "    'Mercedes': 18,\n",
    "    'Toyota': 25\n",
    "}\n",
    "my_var2=pd.Series(cars)\n",
    "print(my_var2)"
   ]
  },
  {
   "cell_type": "code",
   "execution_count": 19,
   "id": "dc917de3",
   "metadata": {},
   "outputs": [],
   "source": [
    "# DATAFRAME"
   ]
  },
  {
   "cell_type": "code",
   "execution_count": 20,
   "id": "f528fc8f",
   "metadata": {},
   "outputs": [],
   "source": [
    "from numpy.random import randn"
   ]
  },
  {
   "cell_type": "code",
   "execution_count": 23,
   "id": "90d0cb15",
   "metadata": {},
   "outputs": [],
   "source": [
    "# 5 rows and 3 columns\n",
    "my_data=randn(5,3)"
   ]
  },
  {
   "cell_type": "code",
   "execution_count": 29,
   "id": "778446cf",
   "metadata": {},
   "outputs": [
    {
     "name": "stdout",
     "output_type": "stream",
     "text": [
      "    Column1   Column2   Column3\n",
      "A -0.150678  2.092245 -0.483439\n",
      "B -0.422024  0.124719 -0.248550\n",
      "C  0.530985  0.566653 -0.286595\n",
      "D  0.813772  1.960004  1.155752\n",
      "E -1.004067 -1.384544  0.143563\n"
     ]
    }
   ],
   "source": [
    "# Create a DataFrame\n",
    "col=['Column1','Column2','Column3']\n",
    "row=['A','B','C','D','E']\n",
    "# in arguments, first is data, second is columns, third is index\n",
    "my_df=pd.DataFrame(my_data,row,col)\n",
    "print(my_df)"
   ]
  },
  {
   "cell_type": "code",
   "execution_count": 33,
   "id": "a835e0e7",
   "metadata": {},
   "outputs": [],
   "source": [
    "#Import CSV File\n",
    "my_df1=pd.read_csv('dog_data.csv')"
   ]
  },
  {
   "cell_type": "code",
   "execution_count": 38,
   "id": "c48c4ea6",
   "metadata": {},
   "outputs": [
    {
     "data": {
      "text/plain": [
       "Breed       COCKAPOO\n",
       "Color          BROWN\n",
       "DogName      CHARLEY\n",
       "OwnerZip       15236\n",
       "Name: 0, dtype: object"
      ]
     },
     "execution_count": 38,
     "metadata": {},
     "output_type": "execute_result"
    }
   ],
   "source": [
    "# To Pull out data we can use\n",
    "my_df1.loc[0]"
   ]
  },
  {
   "cell_type": "code",
   "execution_count": 39,
   "id": "89096c91",
   "metadata": {},
   "outputs": [
    {
     "data": {
      "text/html": [
       "<div>\n",
       "<style scoped>\n",
       "    .dataframe tbody tr th:only-of-type {\n",
       "        vertical-align: middle;\n",
       "    }\n",
       "\n",
       "    .dataframe tbody tr th {\n",
       "        vertical-align: top;\n",
       "    }\n",
       "\n",
       "    .dataframe thead th {\n",
       "        text-align: right;\n",
       "    }\n",
       "</style>\n",
       "<table border=\"1\" class=\"dataframe\">\n",
       "  <thead>\n",
       "    <tr style=\"text-align: right;\">\n",
       "      <th></th>\n",
       "      <th>Breed</th>\n",
       "      <th>Color</th>\n",
       "      <th>DogName</th>\n",
       "      <th>OwnerZip</th>\n",
       "    </tr>\n",
       "  </thead>\n",
       "  <tbody>\n",
       "    <tr>\n",
       "      <th>0</th>\n",
       "      <td>COCKAPOO</td>\n",
       "      <td>BROWN</td>\n",
       "      <td>CHARLEY</td>\n",
       "      <td>15236</td>\n",
       "    </tr>\n",
       "    <tr>\n",
       "      <th>5</th>\n",
       "      <td>SCOTTISH TERRIER</td>\n",
       "      <td>BLACK</td>\n",
       "      <td>BAILEY</td>\n",
       "      <td>15129</td>\n",
       "    </tr>\n",
       "  </tbody>\n",
       "</table>\n",
       "</div>"
      ],
      "text/plain": [
       "              Breed  Color  DogName  OwnerZip\n",
       "0          COCKAPOO  BROWN  CHARLEY     15236\n",
       "5  SCOTTISH TERRIER  BLACK   BAILEY     15129"
      ]
     },
     "execution_count": 39,
     "metadata": {},
     "output_type": "execute_result"
    }
   ],
   "source": [
    "# For multiple rows\n",
    "my_df1.loc[[0,5]]"
   ]
  },
  {
   "cell_type": "code",
   "execution_count": 40,
   "id": "296beaf3",
   "metadata": {},
   "outputs": [
    {
     "data": {
      "text/html": [
       "<div>\n",
       "<style scoped>\n",
       "    .dataframe tbody tr th:only-of-type {\n",
       "        vertical-align: middle;\n",
       "    }\n",
       "\n",
       "    .dataframe tbody tr th {\n",
       "        vertical-align: top;\n",
       "    }\n",
       "\n",
       "    .dataframe thead th {\n",
       "        text-align: right;\n",
       "    }\n",
       "</style>\n",
       "<table border=\"1\" class=\"dataframe\">\n",
       "  <thead>\n",
       "    <tr style=\"text-align: right;\">\n",
       "      <th></th>\n",
       "      <th>Breed</th>\n",
       "      <th>Color</th>\n",
       "      <th>DogName</th>\n",
       "      <th>OwnerZip</th>\n",
       "    </tr>\n",
       "  </thead>\n",
       "  <tbody>\n",
       "    <tr>\n",
       "      <th>0</th>\n",
       "      <td>COCKAPOO</td>\n",
       "      <td>BROWN</td>\n",
       "      <td>CHARLEY</td>\n",
       "      <td>15236</td>\n",
       "    </tr>\n",
       "    <tr>\n",
       "      <th>1</th>\n",
       "      <td>GER SHEPHERD</td>\n",
       "      <td>BLACK/BROWN</td>\n",
       "      <td>TACODA</td>\n",
       "      <td>15238</td>\n",
       "    </tr>\n",
       "    <tr>\n",
       "      <th>2</th>\n",
       "      <td>BELG MALINOIS</td>\n",
       "      <td>BRINDLE</td>\n",
       "      <td>EICH</td>\n",
       "      <td>15238</td>\n",
       "    </tr>\n",
       "    <tr>\n",
       "      <th>3</th>\n",
       "      <td>MIXED</td>\n",
       "      <td>BLACK/BROWN</td>\n",
       "      <td>ARROW</td>\n",
       "      <td>15104</td>\n",
       "    </tr>\n",
       "    <tr>\n",
       "      <th>4</th>\n",
       "      <td>AM PIT BULL TERRIER</td>\n",
       "      <td>WHITE/BROWN</td>\n",
       "      <td>OAKLEY</td>\n",
       "      <td>15139</td>\n",
       "    </tr>\n",
       "  </tbody>\n",
       "</table>\n",
       "</div>"
      ],
      "text/plain": [
       "                 Breed        Color  DogName  OwnerZip\n",
       "0             COCKAPOO        BROWN  CHARLEY     15236\n",
       "1         GER SHEPHERD  BLACK/BROWN   TACODA     15238\n",
       "2        BELG MALINOIS      BRINDLE     EICH     15238\n",
       "3                MIXED  BLACK/BROWN    ARROW     15104\n",
       "4  AM PIT BULL TERRIER  WHITE/BROWN   OAKLEY     15139"
      ]
     },
     "execution_count": 40,
     "metadata": {},
     "output_type": "execute_result"
    }
   ],
   "source": [
    "# Print first 5 rows of the DataFrame\n",
    "my_df1.head(5)"
   ]
  },
  {
   "cell_type": "code",
   "execution_count": 43,
   "id": "ec78a741",
   "metadata": {},
   "outputs": [
    {
     "data": {
      "text/html": [
       "<div>\n",
       "<style scoped>\n",
       "    .dataframe tbody tr th:only-of-type {\n",
       "        vertical-align: middle;\n",
       "    }\n",
       "\n",
       "    .dataframe tbody tr th {\n",
       "        vertical-align: top;\n",
       "    }\n",
       "\n",
       "    .dataframe thead th {\n",
       "        text-align: right;\n",
       "    }\n",
       "</style>\n",
       "<table border=\"1\" class=\"dataframe\">\n",
       "  <thead>\n",
       "    <tr style=\"text-align: right;\">\n",
       "      <th></th>\n",
       "      <th>Breed</th>\n",
       "      <th>Color</th>\n",
       "      <th>DogName</th>\n",
       "      <th>OwnerZip</th>\n",
       "    </tr>\n",
       "  </thead>\n",
       "  <tbody>\n",
       "    <tr>\n",
       "      <th>14</th>\n",
       "      <td>BRITTANY SPANIEL</td>\n",
       "      <td>WHITE/BROWN</td>\n",
       "      <td>ELLIE</td>\n",
       "      <td>15228</td>\n",
       "    </tr>\n",
       "    <tr>\n",
       "      <th>15</th>\n",
       "      <td>MIXED</td>\n",
       "      <td>WHITE</td>\n",
       "      <td>RUSTY</td>\n",
       "      <td>15120</td>\n",
       "    </tr>\n",
       "    <tr>\n",
       "      <th>16</th>\n",
       "      <td>TERRIER MIX</td>\n",
       "      <td>SPOTTED</td>\n",
       "      <td>ANNIE</td>\n",
       "      <td>15239</td>\n",
       "    </tr>\n",
       "    <tr>\n",
       "      <th>17</th>\n",
       "      <td>COCKER SPANIEL</td>\n",
       "      <td>BLONDE</td>\n",
       "      <td>JUILET</td>\n",
       "      <td>15240</td>\n",
       "    </tr>\n",
       "    <tr>\n",
       "      <th>18</th>\n",
       "      <td>COCKER SPANIEL</td>\n",
       "      <td>BLACK</td>\n",
       "      <td>ROMEO</td>\n",
       "      <td>15214</td>\n",
       "    </tr>\n",
       "  </tbody>\n",
       "</table>\n",
       "</div>"
      ],
      "text/plain": [
       "               Breed        Color DogName  OwnerZip\n",
       "14  BRITTANY SPANIEL  WHITE/BROWN   ELLIE     15228\n",
       "15             MIXED        WHITE   RUSTY     15120\n",
       "16       TERRIER MIX      SPOTTED   ANNIE     15239\n",
       "17    COCKER SPANIEL       BLONDE  JUILET     15240\n",
       "18    COCKER SPANIEL        BLACK   ROMEO     15214"
      ]
     },
     "execution_count": 43,
     "metadata": {},
     "output_type": "execute_result"
    }
   ],
   "source": [
    "#print last 5 rows of the DataFrame\n",
    "my_df1.tail(5)"
   ]
  },
  {
   "cell_type": "code",
   "execution_count": 44,
   "id": "942ff5fd",
   "metadata": {},
   "outputs": [
    {
     "name": "stdout",
     "output_type": "stream",
     "text": [
      "<class 'pandas.core.frame.DataFrame'>\n",
      "RangeIndex: 19 entries, 0 to 18\n",
      "Data columns (total 4 columns):\n",
      " #   Column    Non-Null Count  Dtype \n",
      "---  ------    --------------  ----- \n",
      " 0   Breed     19 non-null     object\n",
      " 1   Color     19 non-null     object\n",
      " 2   DogName   19 non-null     object\n",
      " 3   OwnerZip  19 non-null     int64 \n",
      "dtypes: int64(1), object(3)\n",
      "memory usage: 740.0+ bytes\n"
     ]
    }
   ],
   "source": [
    "# we can use info function to get the information about the DataFrame\n",
    "my_df1.info()"
   ]
  },
  {
   "cell_type": "code",
   "execution_count": 50,
   "id": "3880d666",
   "metadata": {},
   "outputs": [
    {
     "data": {
      "text/html": [
       "<div>\n",
       "<style scoped>\n",
       "    .dataframe tbody tr th:only-of-type {\n",
       "        vertical-align: middle;\n",
       "    }\n",
       "\n",
       "    .dataframe tbody tr th {\n",
       "        vertical-align: top;\n",
       "    }\n",
       "\n",
       "    .dataframe thead th {\n",
       "        text-align: right;\n",
       "    }\n",
       "</style>\n",
       "<table border=\"1\" class=\"dataframe\">\n",
       "  <thead>\n",
       "    <tr style=\"text-align: right;\">\n",
       "      <th></th>\n",
       "      <th>OwnerZip</th>\n",
       "    </tr>\n",
       "  </thead>\n",
       "  <tbody>\n",
       "    <tr>\n",
       "      <th>count</th>\n",
       "      <td>19.000000</td>\n",
       "    </tr>\n",
       "    <tr>\n",
       "      <th>mean</th>\n",
       "      <td>15189.526316</td>\n",
       "    </tr>\n",
       "    <tr>\n",
       "      <th>std</th>\n",
       "      <td>61.139520</td>\n",
       "    </tr>\n",
       "    <tr>\n",
       "      <th>min</th>\n",
       "      <td>15090.000000</td>\n",
       "    </tr>\n",
       "    <tr>\n",
       "      <th>25%</th>\n",
       "      <td>15124.500000</td>\n",
       "    </tr>\n",
       "    <tr>\n",
       "      <th>50%</th>\n",
       "      <td>15228.000000</td>\n",
       "    </tr>\n",
       "    <tr>\n",
       "      <th>75%</th>\n",
       "      <td>15238.000000</td>\n",
       "    </tr>\n",
       "    <tr>\n",
       "      <th>max</th>\n",
       "      <td>15240.000000</td>\n",
       "    </tr>\n",
       "  </tbody>\n",
       "</table>\n",
       "</div>"
      ],
      "text/plain": [
       "           OwnerZip\n",
       "count     19.000000\n",
       "mean   15189.526316\n",
       "std       61.139520\n",
       "min    15090.000000\n",
       "25%    15124.500000\n",
       "50%    15228.000000\n",
       "75%    15238.000000\n",
       "max    15240.000000"
      ]
     },
     "execution_count": 50,
     "metadata": {},
     "output_type": "execute_result"
    }
   ],
   "source": [
    "# for description of the DataFrame\n",
    "my_df1.describe()"
   ]
  },
  {
   "cell_type": "code",
   "execution_count": 56,
   "id": "d0ca8902",
   "metadata": {},
   "outputs": [
    {
     "data": {
      "text/html": [
       "<div>\n",
       "<style scoped>\n",
       "    .dataframe tbody tr th:only-of-type {\n",
       "        vertical-align: middle;\n",
       "    }\n",
       "\n",
       "    .dataframe tbody tr th {\n",
       "        vertical-align: top;\n",
       "    }\n",
       "\n",
       "    .dataframe thead th {\n",
       "        text-align: right;\n",
       "    }\n",
       "</style>\n",
       "<table border=\"1\" class=\"dataframe\">\n",
       "  <thead>\n",
       "    <tr style=\"text-align: right;\">\n",
       "      <th></th>\n",
       "      <th>Color</th>\n",
       "    </tr>\n",
       "  </thead>\n",
       "  <tbody>\n",
       "    <tr>\n",
       "      <th>count</th>\n",
       "      <td>19</td>\n",
       "    </tr>\n",
       "    <tr>\n",
       "      <th>unique</th>\n",
       "      <td>10</td>\n",
       "    </tr>\n",
       "    <tr>\n",
       "      <th>top</th>\n",
       "      <td>WHITE/BROWN</td>\n",
       "    </tr>\n",
       "    <tr>\n",
       "      <th>freq</th>\n",
       "      <td>5</td>\n",
       "    </tr>\n",
       "  </tbody>\n",
       "</table>\n",
       "</div>"
      ],
      "text/plain": [
       "              Color\n",
       "count            19\n",
       "unique           10\n",
       "top     WHITE/BROWN\n",
       "freq              5"
      ]
     },
     "execution_count": 56,
     "metadata": {},
     "output_type": "execute_result"
    }
   ],
   "source": [
    "#for specific column description\n",
    "my_df1[['Color']].describe()"
   ]
  },
  {
   "cell_type": "code",
   "execution_count": 59,
   "id": "ca9dcd9f",
   "metadata": {},
   "outputs": [
    {
     "data": {
      "text/plain": [
       "2"
      ]
     },
     "execution_count": 59,
     "metadata": {},
     "output_type": "execute_result"
    }
   ],
   "source": [
    "# To check dimensions of dataframe\n",
    "my_df1.ndim"
   ]
  },
  {
   "cell_type": "code",
   "execution_count": null,
   "id": "ad21c703",
   "metadata": {},
   "outputs": [],
   "source": []
  }
 ],
 "metadata": {
  "kernelspec": {
   "display_name": "base",
   "language": "python",
   "name": "python3"
  },
  "language_info": {
   "codemirror_mode": {
    "name": "ipython",
    "version": 3
   },
   "file_extension": ".py",
   "mimetype": "text/x-python",
   "name": "python",
   "nbconvert_exporter": "python",
   "pygments_lexer": "ipython3",
   "version": "3.12.4"
  }
 },
 "nbformat": 4,
 "nbformat_minor": 5
}
